{
 "cells": [
  {
   "cell_type": "code",
   "execution_count": 2,
   "metadata": {},
   "outputs": [
    {
     "data": {
      "text/plain": [
       "'Connected: @flights.db'"
      ]
     },
     "execution_count": 2,
     "metadata": {},
     "output_type": "execute_result"
    }
   ],
   "source": [
    "%load_ext sql\n",
    "%sql sqlite:///flights.db"
   ]
  },
  {
   "cell_type": "markdown",
   "metadata": {},
   "source": [
    "Problem Set 1\n",
    "=======\n",
    "\n",
    "### Instructions / Notes:\n",
    "\n",
    "**_Read these carefully_**\n",
    "\n",
    "\n",
    "* You will need to install the `prettytable` module to run the scripts. (eg. `pip install --user prettytable`)\n",
    "* Download `flights.db` from http://web.stanford.edu/class/cs145/files/flights.db and make sure it is in the same directory as this Jupyter notebook \n",
    "* Run the top cell above to load the database `flights.db`.\n",
    "* You **may** create new Jupyter notebook cells to use for e.g. testing, debugging, exploring, etc.- this is encouraged in fact!\n",
    "* When you see `In [*]:` to the left of the cell you are executing, this means that the code / query is _running_.\n",
    "    * **If the cell is hanging- i.e. running for too long: to restart the SQL connection, you must restart the entire python kernel**\n",
    "    * To restart the kernel using the menu bar: \"Kernel >> Restart & Clear Output\"), then re-execute the sql connection cell at the top\n",
    "    * You will also need to restart the connection if you want to load a different version of the database file\n",
    "* Remember:\n",
    "    * `%sql [SQL]` is for _single line_ SQL queries\n",
    "    * `%%sql \n",
    "    [SQL]` is for _multi line_ SQL queries\n",
    "* Running `submit.py` will run the queries and print them. \n",
    "* We have provided correct output from our solution in `correct_output.txt`.\n",
    "  * You can diff your output with the correct output by running `python sanity_check.py` or `python submit.py > my_output; diff my_output correct_output.txt`\n",
    "   * **Your `submit.py` should match this output exactly.** This means:\n",
    "       * the columns should have the **same names** as `correct_output.txt`\n",
    "       * the columns should be in the **same order** as `correct_output.txt`\n",
    "\n",
    "### Submission Instructions:\n",
    " * Do _NOT_ submit your iPython notebook.\n",
    " * Instead, copy each query into the provided `submit.py` script in the corresponding variable.\n",
    "   * Do _not_ copy the `%sql` or `%%sql` commands, only the raw SQL.\n",
    "   * We will autograde your queries on a database with identical schema but arbitrarily-chosen values. Therefore, do not hard-code any constants in your queries -- all of your queries should use the tables in the database.\n",
    " * **Follow the instructions in `submission_instructions.txt` to upload your answers to our autograders.**\n",
    "\n",
    "_Have fun!_"
   ]
  },
  {
   "cell_type": "markdown",
   "metadata": {},
   "source": [
    "Introduction: Travel Delays\n",
    "------------------------\n",
    "\n",
    "There's nothing I dislike more than travel delays -- how about you?\n",
    "\n",
    "In fact, I'm always scheming new ways to avoid travel delays, and I just found an amazing dataset that will help me understand some of the causes and trade-offs when traveling.\n",
    "\n",
    "I wonder if you can use SQL to help me!"
   ]
  },
  {
   "cell_type": "markdown",
   "metadata": {},
   "source": [
    "----"
   ]
  },
  {
   "cell_type": "markdown",
   "metadata": {},
   "source": [
    "Not surprisingly... you can!\n",
    "\n",
    "In this homework, we'll use SQL to explore airline travel delays that occurred in July 2017.\n",
    "\n",
    "To start, let's look at the primary relation in the database we've prepared for you:"
   ]
  },
  {
   "cell_type": "code",
   "execution_count": 3,
   "metadata": {},
   "outputs": [
    {
     "name": "stdout",
     "output_type": "stream",
     "text": [
      " * sqlite:///flights.db\n",
      "Done.\n"
     ]
    },
    {
     "data": {
      "text/html": [
       "<table>\n",
       "    <tr>\n",
       "        <th>year</th>\n",
       "        <th>quarter</th>\n",
       "        <th>month</th>\n",
       "        <th>day_of_month</th>\n",
       "        <th>day_of_week</th>\n",
       "        <th>fl_date</th>\n",
       "        <th>unique_carrier</th>\n",
       "        <th>airline_id</th>\n",
       "        <th>carrier</th>\n",
       "        <th>tail_num</th>\n",
       "        <th>fl_num</th>\n",
       "        <th>origin_airport_id</th>\n",
       "        <th>origin_airport_seq_id</th>\n",
       "        <th>origin_city_market_id</th>\n",
       "        <th>origin</th>\n",
       "        <th>origin_city_name</th>\n",
       "        <th>origin_state_abr</th>\n",
       "        <th>origin_state_fips</th>\n",
       "        <th>origin_state_nm</th>\n",
       "        <th>origin_wac</th>\n",
       "        <th>dest_airport_id</th>\n",
       "        <th>dest_airport_seq_id</th>\n",
       "        <th>dest_city_market_id</th>\n",
       "        <th>dest</th>\n",
       "        <th>dest_city_name</th>\n",
       "        <th>dest_state_abr</th>\n",
       "        <th>dest_state_fips</th>\n",
       "        <th>dest_state_nm</th>\n",
       "        <th>dest_wac</th>\n",
       "        <th>crs_dep_time</th>\n",
       "        <th>dep_time</th>\n",
       "        <th>dep_delay</th>\n",
       "        <th>dep_delay_new</th>\n",
       "        <th>dep_del15</th>\n",
       "        <th>dep_delay_group</th>\n",
       "        <th>dep_time_blk</th>\n",
       "        <th>taxi_out</th>\n",
       "        <th>wheels_off</th>\n",
       "        <th>wheels_on</th>\n",
       "        <th>taxi_in</th>\n",
       "        <th>crs_arr_time</th>\n",
       "        <th>arr_time</th>\n",
       "        <th>arr_delay</th>\n",
       "        <th>arr_delay_new</th>\n",
       "        <th>arr_del15</th>\n",
       "        <th>arr_delay_group</th>\n",
       "        <th>arr_time_blk</th>\n",
       "        <th>cancelled</th>\n",
       "        <th>cancellation_code</th>\n",
       "        <th>diverted</th>\n",
       "        <th>carrier_delay</th>\n",
       "        <th>weather_delay</th>\n",
       "        <th>nas_delay</th>\n",
       "        <th>security_delay</th>\n",
       "        <th>late_aircraft_delay</th>\n",
       "        <th>unnamed: 55</th>\n",
       "    </tr>\n",
       "    <tr>\n",
       "        <td>2017</td>\n",
       "        <td>3</td>\n",
       "        <td>7</td>\n",
       "        <td>1</td>\n",
       "        <td>6</td>\n",
       "        <td>2017-07-01</td>\n",
       "        <td>AS</td>\n",
       "        <td>19930</td>\n",
       "        <td>AS</td>\n",
       "        <td>N559AS</td>\n",
       "        <td>1</td>\n",
       "        <td>11278</td>\n",
       "        <td>1127803</td>\n",
       "        <td>30852</td>\n",
       "        <td>DCA</td>\n",
       "        <td>Washington, DC</td>\n",
       "        <td>VA</td>\n",
       "        <td>51</td>\n",
       "        <td>Virginia</td>\n",
       "        <td>38</td>\n",
       "        <td>14747</td>\n",
       "        <td>1474703</td>\n",
       "        <td>30559</td>\n",
       "        <td>SEA</td>\n",
       "        <td>Seattle, WA</td>\n",
       "        <td>WA</td>\n",
       "        <td>53</td>\n",
       "        <td>Washington</td>\n",
       "        <td>93</td>\n",
       "        <td>800</td>\n",
       "        <td>750.0</td>\n",
       "        <td>-10.0</td>\n",
       "        <td>0.0</td>\n",
       "        <td>0.0</td>\n",
       "        <td>-1.0</td>\n",
       "        <td>0800-0859</td>\n",
       "        <td>17.0</td>\n",
       "        <td>807.0</td>\n",
       "        <td>1010.0</td>\n",
       "        <td>11.0</td>\n",
       "        <td>1053</td>\n",
       "        <td>1021.0</td>\n",
       "        <td>-32.0</td>\n",
       "        <td>0.0</td>\n",
       "        <td>0.0</td>\n",
       "        <td>-2.0</td>\n",
       "        <td>1000-1059</td>\n",
       "        <td>0.0</td>\n",
       "        <td>None</td>\n",
       "        <td>0.0</td>\n",
       "        <td>None</td>\n",
       "        <td>None</td>\n",
       "        <td>None</td>\n",
       "        <td>None</td>\n",
       "        <td>None</td>\n",
       "        <td>None</td>\n",
       "    </tr>\n",
       "</table>"
      ],
      "text/plain": [
       "[(2017, 3, 7, 1, 6, '2017-07-01', 'AS', 19930, 'AS', 'N559AS', 1, 11278, 1127803, 30852, 'DCA', 'Washington, DC', 'VA', 51, 'Virginia', 38, 14747, 1474703, 30559, 'SEA', 'Seattle, WA', 'WA', 53, 'Washington', 93, 800, 750.0, -10.0, 0.0, 0.0, -1.0, '0800-0859', 17.0, 807.0, 1010.0, 11.0, 1053, 1021.0, -32.0, 0.0, 0.0, -2.0, '1000-1059', 0.0, None, 0.0, None, None, None, None, None, None)]"
      ]
     },
     "execution_count": 3,
     "metadata": {},
     "output_type": "execute_result"
    }
   ],
   "source": [
    "%%sql\n",
    "SELECT *\n",
    "FROM flight_delays\n",
    "LIMIT 1;"
   ]
  },
  {
   "cell_type": "markdown",
   "metadata": {},
   "source": [
    "Cool, there are so many columns! How many rows are there?"
   ]
  },
  {
   "cell_type": "code",
   "execution_count": 4,
   "metadata": {},
   "outputs": [
    {
     "name": "stdout",
     "output_type": "stream",
     "text": [
      " * sqlite:///flights.db\n",
      "Done.\n"
     ]
    },
    {
     "data": {
      "text/html": [
       "<table>\n",
       "    <tr>\n",
       "        <th>num_rows</th>\n",
       "    </tr>\n",
       "    <tr>\n",
       "        <td>509070</td>\n",
       "    </tr>\n",
       "</table>"
      ],
      "text/plain": [
       "[(509070,)]"
      ]
     },
     "execution_count": 4,
     "metadata": {},
     "output_type": "execute_result"
    }
   ],
   "source": [
    "%%sql\n",
    "SELECT COUNT(*) AS num_rows\n",
    "FROM flight_delays"
   ]
  },
  {
   "cell_type": "markdown",
   "metadata": {},
   "source": [
    "Wow, that's a lot of data! Good thing you don't have to answer all of my questions by hand...\n",
    "\n",
    "You don't need to import more data into the database. However, you can find a description of each field online at [https://www.transtats.bts.gov/DL_SelectFields.asp?Table_ID=236](https://www.transtats.bts.gov/DL_SelectFields.asp?Table_ID=236).\n",
    "\n",
    "We've pre-loaded a number of additional tables that will help you decode important fields like `airline_id`, `airport_id`, and `day_of_week` into human-readable form for the queries below.\n",
    "\n",
    "Please use the following cell to explore these the `airlines` and `weekdays` tables:"
   ]
  },
  {
   "cell_type": "code",
   "execution_count": 5,
   "metadata": {},
   "outputs": [
    {
     "name": "stdout",
     "output_type": "stream",
     "text": [
      " * sqlite:///flights.db\n",
      "Done.\n"
     ]
    },
    {
     "data": {
      "text/html": [
       "<table>\n",
       "    <tr>\n",
       "        <th>year</th>\n",
       "        <th>quarter</th>\n",
       "        <th>month</th>\n",
       "        <th>day_of_month</th>\n",
       "        <th>day_of_week</th>\n",
       "        <th>fl_date</th>\n",
       "        <th>unique_carrier</th>\n",
       "        <th>airline_id</th>\n",
       "        <th>carrier</th>\n",
       "        <th>tail_num</th>\n",
       "        <th>fl_num</th>\n",
       "        <th>origin_airport_id</th>\n",
       "        <th>origin_airport_seq_id</th>\n",
       "        <th>origin_city_market_id</th>\n",
       "        <th>origin</th>\n",
       "        <th>origin_city_name</th>\n",
       "        <th>origin_state_abr</th>\n",
       "        <th>origin_state_fips</th>\n",
       "        <th>origin_state_nm</th>\n",
       "        <th>origin_wac</th>\n",
       "        <th>dest_airport_id</th>\n",
       "        <th>dest_airport_seq_id</th>\n",
       "        <th>dest_city_market_id</th>\n",
       "        <th>dest</th>\n",
       "        <th>dest_city_name</th>\n",
       "        <th>dest_state_abr</th>\n",
       "        <th>dest_state_fips</th>\n",
       "        <th>dest_state_nm</th>\n",
       "        <th>dest_wac</th>\n",
       "        <th>crs_dep_time</th>\n",
       "        <th>dep_time</th>\n",
       "        <th>dep_delay</th>\n",
       "        <th>dep_delay_new</th>\n",
       "        <th>dep_del15</th>\n",
       "        <th>dep_delay_group</th>\n",
       "        <th>dep_time_blk</th>\n",
       "        <th>taxi_out</th>\n",
       "        <th>wheels_off</th>\n",
       "        <th>wheels_on</th>\n",
       "        <th>taxi_in</th>\n",
       "        <th>crs_arr_time</th>\n",
       "        <th>arr_time</th>\n",
       "        <th>arr_delay</th>\n",
       "        <th>arr_delay_new</th>\n",
       "        <th>arr_del15</th>\n",
       "        <th>arr_delay_group</th>\n",
       "        <th>arr_time_blk</th>\n",
       "        <th>cancelled</th>\n",
       "        <th>cancellation_code</th>\n",
       "        <th>diverted</th>\n",
       "        <th>carrier_delay</th>\n",
       "        <th>weather_delay</th>\n",
       "        <th>nas_delay</th>\n",
       "        <th>security_delay</th>\n",
       "        <th>late_aircraft_delay</th>\n",
       "        <th>unnamed: 55</th>\n",
       "    </tr>\n",
       "    <tr>\n",
       "        <td>2017</td>\n",
       "        <td>3</td>\n",
       "        <td>7</td>\n",
       "        <td>1</td>\n",
       "        <td>6</td>\n",
       "        <td>2017-07-01</td>\n",
       "        <td>AS</td>\n",
       "        <td>19930</td>\n",
       "        <td>AS</td>\n",
       "        <td>N559AS</td>\n",
       "        <td>1</td>\n",
       "        <td>11278</td>\n",
       "        <td>1127803</td>\n",
       "        <td>30852</td>\n",
       "        <td>DCA</td>\n",
       "        <td>Washington, DC</td>\n",
       "        <td>VA</td>\n",
       "        <td>51</td>\n",
       "        <td>Virginia</td>\n",
       "        <td>38</td>\n",
       "        <td>14747</td>\n",
       "        <td>1474703</td>\n",
       "        <td>30559</td>\n",
       "        <td>SEA</td>\n",
       "        <td>Seattle, WA</td>\n",
       "        <td>WA</td>\n",
       "        <td>53</td>\n",
       "        <td>Washington</td>\n",
       "        <td>93</td>\n",
       "        <td>800</td>\n",
       "        <td>750.0</td>\n",
       "        <td>-10.0</td>\n",
       "        <td>0.0</td>\n",
       "        <td>0.0</td>\n",
       "        <td>-1.0</td>\n",
       "        <td>0800-0859</td>\n",
       "        <td>17.0</td>\n",
       "        <td>807.0</td>\n",
       "        <td>1010.0</td>\n",
       "        <td>11.0</td>\n",
       "        <td>1053</td>\n",
       "        <td>1021.0</td>\n",
       "        <td>-32.0</td>\n",
       "        <td>0.0</td>\n",
       "        <td>0.0</td>\n",
       "        <td>-2.0</td>\n",
       "        <td>1000-1059</td>\n",
       "        <td>0.0</td>\n",
       "        <td>None</td>\n",
       "        <td>0.0</td>\n",
       "        <td>None</td>\n",
       "        <td>None</td>\n",
       "        <td>None</td>\n",
       "        <td>None</td>\n",
       "        <td>None</td>\n",
       "        <td>None</td>\n",
       "    </tr>\n",
       "    <tr>\n",
       "        <td>2017</td>\n",
       "        <td>3</td>\n",
       "        <td>7</td>\n",
       "        <td>1</td>\n",
       "        <td>6</td>\n",
       "        <td>2017-07-01</td>\n",
       "        <td>AS</td>\n",
       "        <td>19930</td>\n",
       "        <td>AS</td>\n",
       "        <td>N513AS</td>\n",
       "        <td>2</td>\n",
       "        <td>14747</td>\n",
       "        <td>1474703</td>\n",
       "        <td>30559</td>\n",
       "        <td>SEA</td>\n",
       "        <td>Seattle, WA</td>\n",
       "        <td>WA</td>\n",
       "        <td>53</td>\n",
       "        <td>Washington</td>\n",
       "        <td>93</td>\n",
       "        <td>11278</td>\n",
       "        <td>1127803</td>\n",
       "        <td>30852</td>\n",
       "        <td>DCA</td>\n",
       "        <td>Washington, DC</td>\n",
       "        <td>VA</td>\n",
       "        <td>51</td>\n",
       "        <td>Virginia</td>\n",
       "        <td>38</td>\n",
       "        <td>1335</td>\n",
       "        <td>1330.0</td>\n",
       "        <td>-5.0</td>\n",
       "        <td>0.0</td>\n",
       "        <td>0.0</td>\n",
       "        <td>-1.0</td>\n",
       "        <td>1300-1359</td>\n",
       "        <td>15.0</td>\n",
       "        <td>1345.0</td>\n",
       "        <td>2117.0</td>\n",
       "        <td>12.0</td>\n",
       "        <td>2153</td>\n",
       "        <td>2129.0</td>\n",
       "        <td>-24.0</td>\n",
       "        <td>0.0</td>\n",
       "        <td>0.0</td>\n",
       "        <td>-2.0</td>\n",
       "        <td>2100-2159</td>\n",
       "        <td>0.0</td>\n",
       "        <td>None</td>\n",
       "        <td>0.0</td>\n",
       "        <td>None</td>\n",
       "        <td>None</td>\n",
       "        <td>None</td>\n",
       "        <td>None</td>\n",
       "        <td>None</td>\n",
       "        <td>None</td>\n",
       "    </tr>\n",
       "    <tr>\n",
       "        <td>2017</td>\n",
       "        <td>3</td>\n",
       "        <td>7</td>\n",
       "        <td>1</td>\n",
       "        <td>6</td>\n",
       "        <td>2017-07-01</td>\n",
       "        <td>AS</td>\n",
       "        <td>19930</td>\n",
       "        <td>AS</td>\n",
       "        <td>N588AS</td>\n",
       "        <td>3</td>\n",
       "        <td>11278</td>\n",
       "        <td>1127803</td>\n",
       "        <td>30852</td>\n",
       "        <td>DCA</td>\n",
       "        <td>Washington, DC</td>\n",
       "        <td>VA</td>\n",
       "        <td>51</td>\n",
       "        <td>Virginia</td>\n",
       "        <td>38</td>\n",
       "        <td>14747</td>\n",
       "        <td>1474703</td>\n",
       "        <td>30559</td>\n",
       "        <td>SEA</td>\n",
       "        <td>Seattle, WA</td>\n",
       "        <td>WA</td>\n",
       "        <td>53</td>\n",
       "        <td>Washington</td>\n",
       "        <td>93</td>\n",
       "        <td>1852</td>\n",
       "        <td>1856.0</td>\n",
       "        <td>4.0</td>\n",
       "        <td>4.0</td>\n",
       "        <td>0.0</td>\n",
       "        <td>0.0</td>\n",
       "        <td>1800-1859</td>\n",
       "        <td>9.0</td>\n",
       "        <td>1905.0</td>\n",
       "        <td>2100.0</td>\n",
       "        <td>7.0</td>\n",
       "        <td>2157</td>\n",
       "        <td>2107.0</td>\n",
       "        <td>-50.0</td>\n",
       "        <td>0.0</td>\n",
       "        <td>0.0</td>\n",
       "        <td>-2.0</td>\n",
       "        <td>2100-2159</td>\n",
       "        <td>0.0</td>\n",
       "        <td>None</td>\n",
       "        <td>0.0</td>\n",
       "        <td>None</td>\n",
       "        <td>None</td>\n",
       "        <td>None</td>\n",
       "        <td>None</td>\n",
       "        <td>None</td>\n",
       "        <td>None</td>\n",
       "    </tr>\n",
       "    <tr>\n",
       "        <td>2017</td>\n",
       "        <td>3</td>\n",
       "        <td>7</td>\n",
       "        <td>1</td>\n",
       "        <td>6</td>\n",
       "        <td>2017-07-01</td>\n",
       "        <td>AS</td>\n",
       "        <td>19930</td>\n",
       "        <td>AS</td>\n",
       "        <td>N538AS</td>\n",
       "        <td>4</td>\n",
       "        <td>14747</td>\n",
       "        <td>1474703</td>\n",
       "        <td>30559</td>\n",
       "        <td>SEA</td>\n",
       "        <td>Seattle, WA</td>\n",
       "        <td>WA</td>\n",
       "        <td>53</td>\n",
       "        <td>Washington</td>\n",
       "        <td>93</td>\n",
       "        <td>11278</td>\n",
       "        <td>1127803</td>\n",
       "        <td>30852</td>\n",
       "        <td>DCA</td>\n",
       "        <td>Washington, DC</td>\n",
       "        <td>VA</td>\n",
       "        <td>51</td>\n",
       "        <td>Virginia</td>\n",
       "        <td>38</td>\n",
       "        <td>800</td>\n",
       "        <td>840.0</td>\n",
       "        <td>40.0</td>\n",
       "        <td>40.0</td>\n",
       "        <td>1.0</td>\n",
       "        <td>2.0</td>\n",
       "        <td>0800-0859</td>\n",
       "        <td>9.0</td>\n",
       "        <td>849.0</td>\n",
       "        <td>1650.0</td>\n",
       "        <td>3.0</td>\n",
       "        <td>1617</td>\n",
       "        <td>1653.0</td>\n",
       "        <td>36.0</td>\n",
       "        <td>36.0</td>\n",
       "        <td>1.0</td>\n",
       "        <td>2.0</td>\n",
       "        <td>1600-1659</td>\n",
       "        <td>0.0</td>\n",
       "        <td>None</td>\n",
       "        <td>0.0</td>\n",
       "        <td>36.0</td>\n",
       "        <td>0.0</td>\n",
       "        <td>0.0</td>\n",
       "        <td>0.0</td>\n",
       "        <td>0.0</td>\n",
       "        <td>None</td>\n",
       "    </tr>\n",
       "    <tr>\n",
       "        <td>2017</td>\n",
       "        <td>3</td>\n",
       "        <td>7</td>\n",
       "        <td>1</td>\n",
       "        <td>6</td>\n",
       "        <td>2017-07-01</td>\n",
       "        <td>AS</td>\n",
       "        <td>19930</td>\n",
       "        <td>AS</td>\n",
       "        <td>N536AS</td>\n",
       "        <td>5</td>\n",
       "        <td>11278</td>\n",
       "        <td>1127803</td>\n",
       "        <td>30852</td>\n",
       "        <td>DCA</td>\n",
       "        <td>Washington, DC</td>\n",
       "        <td>VA</td>\n",
       "        <td>51</td>\n",
       "        <td>Virginia</td>\n",
       "        <td>38</td>\n",
       "        <td>12892</td>\n",
       "        <td>1289205</td>\n",
       "        <td>32575</td>\n",
       "        <td>LAX</td>\n",
       "        <td>Los Angeles, CA</td>\n",
       "        <td>CA</td>\n",
       "        <td>6</td>\n",
       "        <td>California</td>\n",
       "        <td>91</td>\n",
       "        <td>900</td>\n",
       "        <td>854.0</td>\n",
       "        <td>-6.0</td>\n",
       "        <td>0.0</td>\n",
       "        <td>0.0</td>\n",
       "        <td>-1.0</td>\n",
       "        <td>0900-0959</td>\n",
       "        <td>13.0</td>\n",
       "        <td>907.0</td>\n",
       "        <td>1107.0</td>\n",
       "        <td>8.0</td>\n",
       "        <td>1138</td>\n",
       "        <td>1115.0</td>\n",
       "        <td>-23.0</td>\n",
       "        <td>0.0</td>\n",
       "        <td>0.0</td>\n",
       "        <td>-2.0</td>\n",
       "        <td>1100-1159</td>\n",
       "        <td>0.0</td>\n",
       "        <td>None</td>\n",
       "        <td>0.0</td>\n",
       "        <td>None</td>\n",
       "        <td>None</td>\n",
       "        <td>None</td>\n",
       "        <td>None</td>\n",
       "        <td>None</td>\n",
       "        <td>None</td>\n",
       "    </tr>\n",
       "</table>"
      ],
      "text/plain": [
       "[(2017, 3, 7, 1, 6, '2017-07-01', 'AS', 19930, 'AS', 'N559AS', 1, 11278, 1127803, 30852, 'DCA', 'Washington, DC', 'VA', 51, 'Virginia', 38, 14747, 1474703, 30559, 'SEA', 'Seattle, WA', 'WA', 53, 'Washington', 93, 800, 750.0, -10.0, 0.0, 0.0, -1.0, '0800-0859', 17.0, 807.0, 1010.0, 11.0, 1053, 1021.0, -32.0, 0.0, 0.0, -2.0, '1000-1059', 0.0, None, 0.0, None, None, None, None, None, None),\n",
       " (2017, 3, 7, 1, 6, '2017-07-01', 'AS', 19930, 'AS', 'N513AS', 2, 14747, 1474703, 30559, 'SEA', 'Seattle, WA', 'WA', 53, 'Washington', 93, 11278, 1127803, 30852, 'DCA', 'Washington, DC', 'VA', 51, 'Virginia', 38, 1335, 1330.0, -5.0, 0.0, 0.0, -1.0, '1300-1359', 15.0, 1345.0, 2117.0, 12.0, 2153, 2129.0, -24.0, 0.0, 0.0, -2.0, '2100-2159', 0.0, None, 0.0, None, None, None, None, None, None),\n",
       " (2017, 3, 7, 1, 6, '2017-07-01', 'AS', 19930, 'AS', 'N588AS', 3, 11278, 1127803, 30852, 'DCA', 'Washington, DC', 'VA', 51, 'Virginia', 38, 14747, 1474703, 30559, 'SEA', 'Seattle, WA', 'WA', 53, 'Washington', 93, 1852, 1856.0, 4.0, 4.0, 0.0, 0.0, '1800-1859', 9.0, 1905.0, 2100.0, 7.0, 2157, 2107.0, -50.0, 0.0, 0.0, -2.0, '2100-2159', 0.0, None, 0.0, None, None, None, None, None, None),\n",
       " (2017, 3, 7, 1, 6, '2017-07-01', 'AS', 19930, 'AS', 'N538AS', 4, 14747, 1474703, 30559, 'SEA', 'Seattle, WA', 'WA', 53, 'Washington', 93, 11278, 1127803, 30852, 'DCA', 'Washington, DC', 'VA', 51, 'Virginia', 38, 800, 840.0, 40.0, 40.0, 1.0, 2.0, '0800-0859', 9.0, 849.0, 1650.0, 3.0, 1617, 1653.0, 36.0, 36.0, 1.0, 2.0, '1600-1659', 0.0, None, 0.0, 36.0, 0.0, 0.0, 0.0, 0.0, None),\n",
       " (2017, 3, 7, 1, 6, '2017-07-01', 'AS', 19930, 'AS', 'N536AS', 5, 11278, 1127803, 30852, 'DCA', 'Washington, DC', 'VA', 51, 'Virginia', 38, 12892, 1289205, 32575, 'LAX', 'Los Angeles, CA', 'CA', 6, 'California', 91, 900, 854.0, -6.0, 0.0, 0.0, -1.0, '0900-0959', 13.0, 907.0, 1107.0, 8.0, 1138, 1115.0, -23.0, 0.0, 0.0, -2.0, '1100-1159', 0.0, None, 0.0, None, None, None, None, None, None)]"
      ]
     },
     "execution_count": 5,
     "metadata": {},
     "output_type": "execute_result"
    }
   ],
   "source": [
    "%%sql\n",
    "SELECT * FROM flight_delays LIMIT 5;"
   ]
  },
  {
   "cell_type": "markdown",
   "metadata": {},
   "source": [
    "Alright -- let's get started!"
   ]
  },
  {
   "cell_type": "markdown",
   "metadata": {},
   "source": [
    "# Part I: SQL Queries"
   ]
  },
  {
   "cell_type": "markdown",
   "metadata": {},
   "source": [
    "Query 1: How long are flights delayed on average? (10 points)\n",
    "------------------------\n",
    "Just to get a sense of the data, let's start with a simple query.\n",
    "\n",
    "In the cell below, write a SQL query that returns the average arrival delay for the entire month of July 2017 (i.e., the whole dataset)."
   ]
  },
  {
   "cell_type": "code",
   "execution_count": 6,
   "metadata": {},
   "outputs": [
    {
     "name": "stdout",
     "output_type": "stream",
     "text": [
      " * sqlite:///flights.db\n",
      "Done.\n"
     ]
    },
    {
     "data": {
      "text/html": [
       "<table>\n",
       "    <tr>\n",
       "        <th>AVG(arr_delay)</th>\n",
       "    </tr>\n",
       "    <tr>\n",
       "        <td>8.295147670495197</td>\n",
       "    </tr>\n",
       "</table>"
      ],
      "text/plain": [
       "[(8.295147670495197,)]"
      ]
     },
     "execution_count": 6,
     "metadata": {},
     "output_type": "execute_result"
    }
   ],
   "source": [
    "%%sql\n",
    "SELECT AVG(arr_delay) from flight_delays;"
   ]
  },
  {
   "cell_type": "markdown",
   "metadata": {},
   "source": [
    "Query 2: What was the worst flight delay? (10 points)\n",
    "------------------------\n",
    "Hmm, the average doesn't look too bad! What about the _worst_ delay?\n",
    "\n",
    "In the cell below, write a SQL query that returns the maximum arrival delay for the entire month of July 2017 (i.e., the whole dataset)."
   ]
  },
  {
   "cell_type": "code",
   "execution_count": 6,
   "metadata": {},
   "outputs": [
    {
     "name": "stdout",
     "output_type": "stream",
     "text": [
      " * sqlite:///flights.db\n",
      "Done.\n"
     ]
    },
    {
     "data": {
      "text/html": [
       "<table>\n",
       "    <tr>\n",
       "        <th>MAX(arr_delay)</th>\n",
       "    </tr>\n",
       "    <tr>\n",
       "        <td>1895.0</td>\n",
       "    </tr>\n",
       "</table>"
      ],
      "text/plain": [
       "[(1895.0,)]"
      ]
     },
     "execution_count": 6,
     "metadata": {},
     "output_type": "execute_result"
    }
   ],
   "source": [
    "%%sql\n",
    "SELECT MAX(arr_delay) from flight_delays;"
   ]
  },
  {
   "cell_type": "markdown",
   "metadata": {},
   "source": [
    "Query 3: What flight am I happiest I didn't take? (10 points)\n",
    "------------------------\n",
    "Yikes! What flight was so late?\n",
    "\n",
    "In the cell below, write a SQL query that returns the carrier (i.e., `carrier`), flight number, origin city name, arrival city name, and flight date for the flight with the maximum arrival delay for the entire month of July 2017. Do not hard-code the arrival delay you found above. Hint: use a subquery."
   ]
  },
  {
   "cell_type": "code",
   "execution_count": null,
   "metadata": {},
   "outputs": [],
   "source": [
    "%%sql\n"
   ]
  },
  {
   "cell_type": "markdown",
   "metadata": {},
   "source": [
    "Query 4: Which are the worst days to travel? (10 points)\n",
    "------------------------\n",
    "Since CS145 just started, I don't have time to head to Kona anytime soon. However, I'm headed out of town for a trip next week! What day is worst for booking my flight?\n",
    "\n",
    "In the cell below, write a SQL query that returns the average arrival delay time for each day of the week, in descending order. The schema of your relation should be of the form (`weekday_name`, `average_delay`).\n",
    "\n",
    "**Note: do _not_ report the weekday ID.** (Hint: look at the `weekdays` table and perform a join to obtain the weekday name.)"
   ]
  },
  {
   "cell_type": "code",
   "execution_count": null,
   "metadata": {},
   "outputs": [],
   "source": [
    "%%sql\n"
   ]
  },
  {
   "cell_type": "markdown",
   "metadata": {},
   "source": [
    "Query 5: Which airlines that fly out of SFO are delayed least?\n",
    "------------------------\n",
    "Now that I know which days to avoid, I'm curious which airline I should fly out of SFO. Since I haven't been told where I'm flying, please just compute the average for the airlines that fly from SFO.\n",
    "\n",
    "In the cell below, write a SQL query that returns the average arrival delay time (across _all_ flights) for each carrier that flew out of SFO at least once in July 2017 (i.e., in the current dataset), in descending order.\n",
    "\n",
    "**Note: do _not_ report the airlines ID.** (Hint: a subquery is helpful here; also, look at the `airlines` table and perform a join.)"
   ]
  },
  {
   "cell_type": "code",
   "execution_count": null,
   "metadata": {},
   "outputs": [],
   "source": [
    "%%sql\n"
   ]
  },
  {
   "cell_type": "markdown",
   "metadata": {},
   "source": [
    "Query 6: What proportion of airlines are regularly late?\n",
    "------------------------\n",
    "Yeesh, there are a lot of late flights! How many airlines are regularly late?\n",
    "\n",
    "In the cell below, write a SQL query that returns the proportion of airlines (appearing in `flight_delays`) whose flights are on average at least 10 minutes late to arrive. Do not hard-code the total number of airlines, and make sure to use at least one `HAVING` clause in your SQL query.\n",
    "\n",
    "Note: sqlite `COUNT(*)` returns integer types. Therefore, your query should likely contain at least one `SELECT CAST (COUNT(*) AS float)` or a clause like `COUNT(*)*1.0`."
   ]
  },
  {
   "cell_type": "code",
   "execution_count": null,
   "metadata": {},
   "outputs": [],
   "source": [
    "%%sql\n"
   ]
  },
  {
   "cell_type": "markdown",
   "metadata": {},
   "source": [
    "Query 7: How do late departures affect late arrivals?\n",
    "------------------------\n",
    "It sure looks like my plane is likely to be delayed. I'd like to know: if my plane is delayed in taking off, how will it affect my arrival time?\n",
    "\n",
    "The [sample covariance](https://en.wikipedia.org/wiki/Covariance) provides a measure of the joint variability of two variables. The higher the covariance, the more the two variables behave similarly, and negative covariance indicates the variables indicate the variables tend to be inversely related. We can compute the sample covariance as:\n",
    "$$\n",
    "Cov(X,Y) = \\frac{1}{n-1} \\sum_{i=1}^n (x_i-\\hat{x})(y_i-\\hat{y})\n",
    "$$\n",
    "where $x_i$ denotes the $i$th sample of $X$, $y_i$ the $i$th sample of $Y$, and the mean of $X$ and $Y$ are denoted by $\\bar{x}$ and $\\bar{y}$.\n",
    "\n",
    "In the cell below, write a single SQL query that computes the covariance between the departure delay time and the arrival delay time.\n",
    "\n",
    "*Note: we could also compute a statistic like the [Pearson correlation coefficient](https://en.wikipedia.org/wiki/Pearson_correlation_coefficient) here, which provides a normalized measure (i.e., on a scale from -1 to 1) of how strongly two variables are related. However, sqlite doesn't natively support square roots (unlike commonly-used relational databases like PostgreSQL and MySQL!), so we're asking you to compute covariance instead.*"
   ]
  },
  {
   "cell_type": "code",
   "execution_count": null,
   "metadata": {},
   "outputs": [],
   "source": [
    "%%sql\n"
   ]
  },
  {
   "cell_type": "markdown",
   "metadata": {},
   "source": [
    "Query 8: It was a bad week...\n",
    "------------------------\n",
    "Which airlines had the largest absolute increase in average arrival delay in the last week of July (i.e., flights on or after July 24th) compared to the previous days (i.e. flights before July 24th)?\n",
    "\n",
    "In the cell below, write a single SQL query that returns the airline name (_not_ ID) with the maximum absolute increase in average arrival delay between the first 23 days of the month and days 24-31. Report both the airline name and the absolute increase.\n",
    "\n",
    "Note: due to [sqlite's handling of dates](http://www.sqlite.org/lang_datefunc.html), it may be easier to query using `day_of_month`.\n",
    "\n",
    "Note 2: This is probably the hardest query of the assignment; break it down into subqueries that you can run one-by-one and build up your answer subquery by subquery.\n",
    "\n",
    "Hint: You can compute two subqueries, one to compute the average arrival delay for flights on or after July 24th, and one to compute the average arrival delay for flights before July 24th, and then join the two to calculate the increase in delay. "
   ]
  },
  {
   "cell_type": "code",
   "execution_count": null,
   "metadata": {},
   "outputs": [],
   "source": [
    "%%sql\n"
   ]
  },
  {
   "cell_type": "markdown",
   "metadata": {},
   "source": [
    "Query 9: Of Hipsters and Anarchists\n",
    "------------------------\n",
    "I'm keen to visit both Portland (PDX) and Eugene (EUG), but I can't fit both into the same trip. To maximize my frequent flier mileage, I'd like to use the same flight for each. Which airlines fly both SFO -> PDX and SFO -> EUG?\n",
    "\n",
    "In the cell below, write a single SQL query that returns the distinct airline names (_not_ ID, and with no duplicates) that flew both SFO -> PDX and SFO -> EUG in July 2017."
   ]
  },
  {
   "cell_type": "code",
   "execution_count": null,
   "metadata": {},
   "outputs": [],
   "source": [
    "%%sql\n"
   ]
  },
  {
   "cell_type": "markdown",
   "metadata": {},
   "source": [
    "Query 10: Decision Fatigue and Equidistance\n",
    "------------------------\n",
    "I'm flying back to Stanford from Chicago later this month, and I can fly out of either Midway (MDW) or O'Hare (ORD) and can fly into either San Francisco (SFO), San Jose (SJC), or Oakland (OAK). If this month is like July, which leg will have the shortest arrival delay for flights leaving Chicago after 2PM local time?\n",
    "\n",
    "In the cell below, write a single SQL query that returns the average arrival delay of flights departing either MDW or ORD after 2PM local time (`crs_dep_time`) and arriving at one of SFO, SJC, or OAK. Group by departure and arrival airport and return results descending by arrival delay.\n",
    "\n",
    "Note: the `crs_dep_time` field is an integer formatted as hhmm (e.g. 4:15pm is 1615)"
   ]
  },
  {
   "cell_type": "code",
   "execution_count": null,
   "metadata": {},
   "outputs": [],
   "source": [
    "%%sql\n"
   ]
  },
  {
   "cell_type": "markdown",
   "metadata": {},
   "source": [
    "## You're done! Now submit!\n",
    " * Refer to the top of this notebook for submission instructions."
   ]
  }
 ],
 "metadata": {
  "kernelspec": {
   "display_name": "Python 3",
   "language": "python",
   "name": "python3"
  },
  "language_info": {
   "codemirror_mode": {
    "name": "ipython",
    "version": 3
   },
   "file_extension": ".py",
   "mimetype": "text/x-python",
   "name": "python",
   "nbconvert_exporter": "python",
   "pygments_lexer": "ipython3",
   "version": "3.6.4"
  }
 },
 "nbformat": 4,
 "nbformat_minor": 2
}
